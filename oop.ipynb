{
 "cells": [
  {
   "cell_type": "markdown",
   "metadata": {},
   "source": [
    "# OOP"
   ]
  },
  {
   "cell_type": "code",
   "execution_count": 1,
   "metadata": {},
   "outputs": [
    {
     "name": "stdout",
     "output_type": "stream",
     "text": [
      "Women In Tech\n",
      "Panggil aku Mayori\n"
     ]
    }
   ],
   "source": [
    "class Peserta:\n",
    "    nama_kegiatan = \"Women In Tech\" #atribut = public variable\n",
    "\n",
    "    def __init__(self, nama, kelas, kehadiran): #def __init__ adalah konstruktor. nama, kelas, kehadiran adalah parameter\n",
    "        self.nama = nama\n",
    "        self.kelas = kelas\n",
    "        self.kehadiran = kehadiran\n",
    "    \n",
    "    def panggil_nama(self): #perilaku\n",
    "        print(f\"Panggil aku {self.nama}\")\n",
    "\n",
    "program = Peserta(\"Mayori\", \"Kelas M\", 4)\n",
    "print(program.nama_kegiatan)\n",
    "program.panggil_nama()"
   ]
  },
  {
   "cell_type": "code",
   "execution_count": 8,
   "metadata": {},
   "outputs": [
    {
     "name": "stdout",
     "output_type": "stream",
     "text": [
      " 6 + 4 = 10\n",
      " 6 - 4 = 2\n",
      " Nama kalkulator: Casio\n",
      " Nama kalkulator baru: Kuantum\n"
     ]
    }
   ],
   "source": [
    "class Kalkulator:\n",
    "    nama_kalkulator = \"Casio\"\n",
    "    \n",
    "    def __init__(self, a, b):\n",
    "        self.a = a\n",
    "        self.b = b\n",
    "    \n",
    "    def tambah(self):\n",
    "        total = self.a + self.b\n",
    "        return total\n",
    "    \n",
    "    def kurang(self):\n",
    "        total = self.a - self.b\n",
    "        return total\n",
    "    \n",
    "soal_1 = Kalkulator(6,4)\n",
    "print(f\" 6 + 4 = {soal_1.tambah()}\")\n",
    "print(f\" 6 - 4 = {soal_1.kurang()}\")\n",
    "print(f\" Nama kalkulator: {soal_1.nama_kalkulator}\")\n",
    "soal_1.nama_kalkulator = \"Kuantum\"\n",
    "print(f\" Nama kalkulator baru: {soal_1.nama_kalkulator}\")\n"
   ]
  },
  {
   "cell_type": "markdown",
   "metadata": {},
   "source": [
    "Polymorphism: \n",
    "Membentuk banyak kelas dengan method yang sama"
   ]
  },
  {
   "cell_type": "markdown",
   "metadata": {},
   "source": [
    "# Inheritance\n",
    "Konsep dimana sebuah class dapat mewarisi properti atau method dari class lain, yang memungkinkan class tersebut dapat digunakan kembali."
   ]
  },
  {
   "cell_type": "code",
   "execution_count": 13,
   "metadata": {},
   "outputs": [
    {
     "name": "stdout",
     "output_type": "stream",
     "text": [
      "Mayori dengan jenis kelamin Perempuan mengambil mata kuliah Statistika\n",
      "Mayori dengan jenis kelamin Perempuan sudah dipanggil\n"
     ]
    }
   ],
   "source": [
    "class Peserta:\n",
    "    def __init__(self, nama, jenis_kelamin):\n",
    "        self.nama = nama\n",
    "        self.gender = jenis_kelamin\n",
    "    def panggilPeserta(self): #polymorphism\n",
    "        print(f\"{self.nama} dengan jenis kelamin {self.gender} sudah dipanggil\")\n",
    "\n",
    "class Pekerjaan(Peserta):\n",
    "    def __init__(self, nama, jenis_kelamin, tempat_kerja):\n",
    "        Peserta.__init__(self, nama, jenis_kelamin)\n",
    "        self.kerja = tempat_kerja\n",
    "    def panggilan_kerja(self):\n",
    "        print(f\"{self.nama} dengan jenis kelamin {self.gender} dipanggil ke {self.kerja}\")\n",
    "    def panggilPeserta(self):\n",
    "        print(f\"{self.nama} dengan jenis kelamin {self.gender} sudah dipanggil dua kali!\")\n",
    "\n",
    "class Pelajaran(Peserta):\n",
    "    pass\n",
    "\n",
    "class Matakuliah(Pelajaran):\n",
    "    def __init__(self, nama, jenis_kelamin, matakuliah):\n",
    "        Pelajaran.__init__(self, nama, jenis_kelamin)\n",
    "        self.matakuliah = matakuliah\n",
    "\n",
    "    def ambilMatkul(self):\n",
    "        print(f\"{self.nama} dengan jenis kelamin {self.gender} mengambil mata kuliah {self.matakuliah}\")\n",
    "        \n",
    "#coba = Pekerjaan(\"Mayori\", \"Perempuan\", \"Kantor\")\n",
    "#coba.panggilan_kerja()\n",
    "#coba.panggilPeserta()\n",
    "\n",
    "pelajar = Matakuliah(\"Mayori\", \"Perempuan\", \"Statistika\")\n",
    "pelajar.ambilMatkul()\n",
    "pelajar.panggilPeserta()"
   ]
  },
  {
   "cell_type": "code",
   "execution_count": null,
   "metadata": {},
   "outputs": [],
   "source": []
  }
 ],
 "metadata": {
  "kernelspec": {
   "display_name": "Python 3",
   "language": "python",
   "name": "python3"
  },
  "language_info": {
   "codemirror_mode": {
    "name": "ipython",
    "version": 3
   },
   "file_extension": ".py",
   "mimetype": "text/x-python",
   "name": "python",
   "nbconvert_exporter": "python",
   "pygments_lexer": "ipython3",
   "version": "3.9.0"
  }
 },
 "nbformat": 4,
 "nbformat_minor": 2
}
