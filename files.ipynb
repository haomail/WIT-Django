{
 "cells": [
  {
   "cell_type": "markdown",
   "metadata": {},
   "source": [
    "# Reading and Closing Files"
   ]
  },
  {
   "cell_type": "code",
   "execution_count": 6,
   "metadata": {},
   "outputs": [
    {
     "name": "stdout",
     "output_type": "stream",
     "text": [
      "Halo!\n",
      "File ini adalah contoh.\n"
     ]
    }
   ],
   "source": [
    "f = open('./file.txt')\n",
    "print(f.read()) #print semua kalimat\n",
    "f.close()"
   ]
  },
  {
   "cell_type": "code",
   "execution_count": 7,
   "metadata": {},
   "outputs": [
    {
     "name": "stdout",
     "output_type": "stream",
     "text": [
      "Halo!\n"
     ]
    }
   ],
   "source": [
    "f = open('./file.txt')\n",
    "print(f.read(5)) #print 5 karakter pertama, Halo!\n",
    "f.close()"
   ]
  },
  {
   "cell_type": "code",
   "execution_count": 8,
   "metadata": {},
   "outputs": [
    {
     "name": "stdout",
     "output_type": "stream",
     "text": [
      "Halo!\n",
      "\n",
      "File ini adalah contoh.\n"
     ]
    }
   ],
   "source": [
    "f = open('./file.txt')\n",
    "print(f.readline()) #print line pertama, Halo!\n",
    "print(f.readline()) #print line kedua, File ini adalah contoh.\n",
    "f.close()"
   ]
  },
  {
   "cell_type": "code",
   "execution_count": 9,
   "metadata": {},
   "outputs": [
    {
     "name": "stdout",
     "output_type": "stream",
     "text": [
      "Halo!\n",
      "\n",
      "File ini adalah contoh.\n"
     ]
    }
   ],
   "source": [
    "# Using loop\n",
    "f = open('./file.txt')\n",
    "for x in f:\n",
    "    print(x)\n",
    "f.close()"
   ]
  },
  {
   "cell_type": "markdown",
   "metadata": {},
   "source": [
    "# Writing or Creating Files"
   ]
  },
  {
   "cell_type": "code",
   "execution_count": 16,
   "metadata": {},
   "outputs": [],
   "source": [
    "f = open('./file.txt', 'a')\n",
    "f.write('\\nHalo lagi, ini penambahan baru pada file') #adding new text on file\n",
    "f.close()"
   ]
  },
  {
   "cell_type": "code",
   "execution_count": 18,
   "metadata": {},
   "outputs": [
    {
     "name": "stdout",
     "output_type": "stream",
     "text": [
      "Halo!\n",
      "File ini adalah contoh.\n",
      "Halo lagi, ini penambahan baru pada file\n"
     ]
    }
   ],
   "source": [
    "f = open('./file.txt')\n",
    "print(f.read())\n",
    "f.close()"
   ]
  },
  {
   "cell_type": "code",
   "execution_count": 19,
   "metadata": {},
   "outputs": [],
   "source": [
    "f = open('./file.txt', 'w')\n",
    "f.write('Data sebelumnya sudah terhapus, karena kita menggunakan mode w') #replacing all texts with new onw\n",
    "f.close()"
   ]
  },
  {
   "cell_type": "code",
   "execution_count": 20,
   "metadata": {},
   "outputs": [
    {
     "name": "stdout",
     "output_type": "stream",
     "text": [
      "Data sebelumnya sudah terhapus, karena kita menggunakan mode w\n"
     ]
    }
   ],
   "source": [
    "f = open('./file.txt')\n",
    "print(f.read())\n",
    "f.close()"
   ]
  },
  {
   "cell_type": "code",
   "execution_count": 9,
   "metadata": {},
   "outputs": [],
   "source": [
    "file = open('skincare.txt', 'a')\n",
    "skincare = ['Urutan basic skincare:','1. Face wash', '2. Toner', '3. Moisturizer', '4. Sunscreen']\n",
    "for iterate in skincare:\n",
    "    file.write(iterate + '\\n')\n",
    "file.close()"
   ]
  },
  {
   "cell_type": "code",
   "execution_count": 10,
   "metadata": {},
   "outputs": [
    {
     "name": "stdout",
     "output_type": "stream",
     "text": [
      "['Urutan basic skincare:\\n', '1. Face wash\\n', '2. Toner\\n', '3. Moisturizer\\n', '4. Sunscreen\\n']\n"
     ]
    }
   ],
   "source": [
    "file = open('skincare.txt')\n",
    "print(file.readlines())\n",
    "file.close()"
   ]
  },
  {
   "cell_type": "markdown",
   "metadata": {},
   "source": [
    "# Deleting Files"
   ]
  },
  {
   "cell_type": "code",
   "execution_count": 26,
   "metadata": {},
   "outputs": [
    {
     "ename": "SyntaxError",
     "evalue": "invalid syntax (4250360570.py, line 2)",
     "output_type": "error",
     "traceback": [
      "\u001b[1;36m  Cell \u001b[1;32mIn[26], line 2\u001b[1;36m\u001b[0m\n\u001b[1;33m    os.remove{'file.txt'}\u001b[0m\n\u001b[1;37m              ^\u001b[0m\n\u001b[1;31mSyntaxError\u001b[0m\u001b[1;31m:\u001b[0m invalid syntax\n"
     ]
    }
   ],
   "source": [
    "import os\n",
    "os.remove{'file.txt'} #resulting error"
   ]
  },
  {
   "cell_type": "code",
   "execution_count": 28,
   "metadata": {},
   "outputs": [],
   "source": [
    "import os\n",
    "os.rmdir('try') #deleting a folder named try "
   ]
  },
  {
   "cell_type": "code",
   "execution_count": 29,
   "metadata": {},
   "outputs": [],
   "source": [
    "import os\n",
    "if os.path.exists('./file.txt'): #we have to check the file first\n",
    "    os.remove('./file.txt')"
   ]
  },
  {
   "cell_type": "markdown",
   "metadata": {},
   "source": [
    "| Mode Akses | Keterangan |\n",
    "| ---------- | ---------- |\n",
    "| r          | Membaca file, error apabila file tidak ada |\n",
    "| a          | Menambahkan data pada file, error apabila file tidak ada |\n",
    "| w          | Menulis file baru, akan membuat file baru apabila file tidak ada |\n",
    "| x          | Membuat file baru, error apabila sudah ada |\n"
   ]
  },
  {
   "cell_type": "code",
   "execution_count": null,
   "metadata": {},
   "outputs": [],
   "source": []
  }
 ],
 "metadata": {
  "kernelspec": {
   "display_name": "Python 3",
   "language": "python",
   "name": "python3"
  },
  "language_info": {
   "codemirror_mode": {
    "name": "ipython",
    "version": 3
   },
   "file_extension": ".py",
   "mimetype": "text/x-python",
   "name": "python",
   "nbconvert_exporter": "python",
   "pygments_lexer": "ipython3",
   "version": "3.9.0"
  }
 },
 "nbformat": 4,
 "nbformat_minor": 2
}
